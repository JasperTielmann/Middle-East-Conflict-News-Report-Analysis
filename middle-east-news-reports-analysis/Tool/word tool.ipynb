{
 "cells": [
  {
   "cell_type": "code",
   "execution_count": 2,
   "id": "99e25e6d",
   "metadata": {},
   "outputs": [],
   "source": [
    "import pandas as pd\n",
    "import matplotlib.pyplot as plt\n",
    "\n",
    "cnn1 = pd.read_csv(\"cnn.csv\")\n",
    "bbc = pd.read_csv(\"bbc.csv\")\n",
    "fox = pd.read_csv(\"fox.csv\")"
   ]
  },
  {
   "cell_type": "code",
   "execution_count": 3,
   "id": "1aa8da61",
   "metadata": {},
   "outputs": [],
   "source": [
    "bbc_text = bbc[\"Text\"].str.lower()\n",
    "cnn_text = cnn1[\"Text\"].str.lower()\n",
    "fox_text = fox[\"Text\"].str.lower()"
   ]
  },
  {
   "cell_type": "code",
   "execution_count": 7,
   "id": "d7dbbf2d",
   "metadata": {},
   "outputs": [],
   "source": [
    "def tool():\n",
    "    \"\"\"Receives an Word as input and returns Chart with Frequency of the Word used per News Site\"\"\"\n",
    "    word = input(\"Please enter a word you would like to know the Freqeuncy of: \")\n",
    "    word = word.lower()\n",
    "    word_count = {}\n",
    "    texts = [cnn_text, bbc_text, fox_text]\n",
    "    index = 0\n",
    "    for text in texts:\n",
    "        total_count = text.str.count(word).sum()\n",
    "        word_count[index] = total_count/len(text)\n",
    "        index += 1\n",
    "    word_count[\"CNN\"] = word_count.pop(0)\n",
    "    word_count[\"BBC\"] = word_count.pop(1)\n",
    "    word_count[\"Fox News\"] = word_count.pop(2)\n",
    "    df = pd.DataFrame.from_dict(word_count, orient=\"index\")\n",
    "    x = df.index\n",
    "    y = df[0]\n",
    "\n",
    "    plt.figure(figsize=(10, 6))\n",
    "    plt.bar(x, y, color=['red', 'blue', 'orange'])\n",
    "\n",
    "\n",
    "    plt.xlabel('News Site')\n",
    "    plt.ylabel(\"Frequency of the word\")\n",
    "    plt.title(f'{word.title()}')\n",
    "    plt.xticks(rotation=0)\n",
    "    plt.grid(axis='y', linestyle='--', alpha=0.7)\n",
    "    plt.tight_layout()\n",
    "    return plt.show()"
   ]
  },
  {
   "cell_type": "code",
   "execution_count": 13,
   "id": "8d2953a3",
   "metadata": {
    "scrolled": false
   },
   "outputs": [
    {
     "name": "stdout",
     "output_type": "stream",
     "text": [
      "How many words do you want to check?: election\n"
     ]
    },
    {
     "ename": "ValueError",
     "evalue": "invalid literal for int() with base 10: 'election'",
     "output_type": "error",
     "traceback": [
      "\u001b[1;31m---------------------------------------------------------------------------\u001b[0m",
      "\u001b[1;31mValueError\u001b[0m                                Traceback (most recent call last)",
      "Cell \u001b[1;32mIn[13], line 1\u001b[0m\n\u001b[1;32m----> 1\u001b[0m \u001b[38;5;28;01mfor\u001b[39;00m i \u001b[38;5;129;01min\u001b[39;00m \u001b[38;5;28mrange\u001b[39m(\u001b[38;5;28mint\u001b[39m(\u001b[38;5;28minput\u001b[39m(\u001b[38;5;124m\"\u001b[39m\u001b[38;5;124mHow many words do you want to check?: \u001b[39m\u001b[38;5;124m\"\u001b[39m))):\n\u001b[0;32m      2\u001b[0m     tool()\n",
      "\u001b[1;31mValueError\u001b[0m: invalid literal for int() with base 10: 'election'"
     ]
    }
   ],
   "source": [
    "for i in range(int(input(\"How many words do you want to check?: \"))):\n",
    "    tool()"
   ]
  },
  {
   "cell_type": "code",
   "execution_count": null,
   "id": "f6f5fa97",
   "metadata": {},
   "outputs": [],
   "source": []
  }
 ],
 "metadata": {
  "kernelspec": {
   "display_name": "Python 3 (ipykernel)",
   "language": "python",
   "name": "python3"
  },
  "language_info": {
   "codemirror_mode": {
    "name": "ipython",
    "version": 3
   },
   "file_extension": ".py",
   "mimetype": "text/x-python",
   "name": "python",
   "nbconvert_exporter": "python",
   "pygments_lexer": "ipython3",
   "version": "3.11.3"
  }
 },
 "nbformat": 4,
 "nbformat_minor": 5
}
